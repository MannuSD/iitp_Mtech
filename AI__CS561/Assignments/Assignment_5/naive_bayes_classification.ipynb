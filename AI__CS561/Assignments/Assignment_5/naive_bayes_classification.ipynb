{
  "nbformat": 4,
  "nbformat_minor": 0,
  "metadata": {
    "colab": {
      "provenance": []
    },
    "kernelspec": {
      "name": "python3",
      "display_name": "Python 3"
    },
    "language_info": {
      "name": "python"
    }
  },
  "cells": [
    {
      "cell_type": "code",
      "execution_count": null,
      "metadata": {
        "id": "7tomtUDjnYa_"
      },
      "outputs": [],
      "source": [
        "\"\"\"\n",
        "Iris data classification with Naive Bayes algorithm\n",
        "Ref: https://github.com/reshma78611/Classification-using-Naive-Bayes-with-Python/\n",
        "\"\"\"\n",
        "\n",
        "# imports\n",
        "import numpy as np\n",
        "import pandas as pd\n",
        "import matplotlib.pyplot as plt\n",
        "from sklearn.model_selection import train_test_split\n",
        "from sklearn.naive_bayes import GaussianNB\n",
        "from sklearn.naive_bayes import MultinomialNB"
      ]
    },
    {
      "cell_type": "code",
      "source": [
        "# reading data\n",
        "iris=pd.read_csv('iris.csv')\n",
        "iris.columns=['sepal_length','sepal_width','petal_length','petal_width','species']\n",
        "\n",
        "col_names=list(iris.columns)\n",
        "predictors=col_names[0:4]\n",
        "target=col_names[4]\n",
        "\n",
        "# splitting into train and test sets\n",
        "train,test=train_test_split(iris,test_size=0.3,random_state=0)"
      ],
      "metadata": {
        "id": "pbFZTpTVn05D"
      },
      "execution_count": null,
      "outputs": []
    },
    {
      "cell_type": "code",
      "source": [
        "# Gaussian Naive Bayes algorithm\n",
        "Gmodel=GaussianNB()\n",
        "\n",
        "# training\n",
        "Gmodel.fit(train[predictors],train[target])\n",
        "train_Gpred=Gmodel.predict(train[predictors])\n",
        "\n",
        "# testing\n",
        "test_Gpred=Gmodel.predict(test[predictors])\n",
        "\n",
        "# accuracy\n",
        "train_acc_gau=np.mean(train_Gpred==train[target])\n",
        "test_acc_gau=np.mean(test_Gpred==test[target])\n",
        "print(train_acc_gau)#0.942\n",
        "print(test_acc_gau)#1.0"
      ],
      "metadata": {
        "colab": {
          "base_uri": "https://localhost:8080/"
        },
        "id": "evkNOsuboODy",
        "outputId": "457f76df-df8a-4d08-fb2b-f89c56776169"
      },
      "execution_count": null,
      "outputs": [
        {
          "output_type": "stream",
          "name": "stdout",
          "text": [
            "0.9428571428571428\n",
            "1.0\n"
          ]
        }
      ]
    },
    {
      "cell_type": "code",
      "source": [
        "#Multinomial Naive Bayes algorithm\n",
        "Mmodel=MultinomialNB()\n",
        "\n",
        "# training\n",
        "Mmodel.fit(train[predictors],train[target])\n",
        "train_Mpred=Mmodel.predict(train[predictors])\n",
        "\n",
        "# testing\n",
        "test_Mpred=Mmodel.predict(test[predictors])\n",
        "\n",
        "# accuracy\n",
        "train_acc_multi=np.mean(train_Mpred==train[target])\n",
        "test_acc_multi=np.mean(test_Mpred==test[target])\n",
        "print(train_acc_multi)#0.704\n",
        "print(test_acc_multi)#0.6"
      ],
      "metadata": {
        "colab": {
          "base_uri": "https://localhost:8080/"
        },
        "id": "g1uL1cbPowC3",
        "outputId": "533ea35c-99a7-46ad-9441-c9c6a5624faa"
      },
      "execution_count": null,
      "outputs": [
        {
          "output_type": "stream",
          "name": "stdout",
          "text": [
            "0.7047619047619048\n",
            "0.6\n"
          ]
        }
      ]
    }
  ]
}